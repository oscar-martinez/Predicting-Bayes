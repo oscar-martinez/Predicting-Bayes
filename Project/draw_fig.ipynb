{
 "cells": [
  {
   "cell_type": "code",
   "execution_count": 1,
   "metadata": {},
   "outputs": [
    {
     "name": "stderr",
     "output_type": "stream",
     "text": [
      "/home/oscarmartinez/anaconda3/lib/python3.6/site-packages/ipykernel_launcher.py:17: MatplotlibDeprecationWarning: scipy.stats.norm.pdf\n",
      "/home/oscarmartinez/anaconda3/lib/python3.6/site-packages/ipykernel_launcher.py:18: MatplotlibDeprecationWarning: scipy.stats.norm.pdf\n",
      "/home/oscarmartinez/anaconda3/lib/python3.6/site-packages/ipykernel_launcher.py:19: MatplotlibDeprecationWarning: scipy.stats.norm.pdf\n"
     ]
    }
   ],
   "source": [
    "import matplotlib.pyplot as plt\n",
    "import matplotlib.mlab as mlab\n",
    "import math\n",
    "fig = plt.figure()\n",
    "mu = 0\n",
    "mu2=2\n",
    "mu3=3\n",
    "variance3=0.6\n",
    "variance2=0.4\n",
    "variance = 1\n",
    "sigma = math.sqrt(variance)\n",
    "sigma2=math.sqrt(variance2)\n",
    "sigma3=math.sqrt(variance3)\n",
    "x = np.linspace(mu - 3*sigma, mu + 3*sigma, 100)\n",
    "x2=np.linspace(mu2 - 3*sigma2, mu2 + 3*sigma2, 100)\n",
    "x3=np.linspace(mu3 - 3*sigma3, mu3 + 3*sigma3, 100)\n",
    "plt.plot(x,mlab.normpdf(x, mu, sigma),label='Prior belief')\n",
    "plt.plot(x2,mlab.normpdf(x2, mu2, sigma2),label='Posterior belief')\n",
    "plt.plot(x3,mlab.normpdf(x3, mu3, sigma3),label='Evidence')\n",
    "plt.legend(loc=2)\n",
    "plt.axis('off')\n",
    "fig.savefig('bayestheorem.png')"
   ]
  }
 ],
 "metadata": {
  "kernelspec": {
   "display_name": "Python 3",
   "language": "python",
   "name": "python3"
  },
  "language_info": {
   "codemirror_mode": {
    "name": "ipython",
    "version": 3
   },
   "file_extension": ".py",
   "mimetype": "text/x-python",
   "name": "python",
   "nbconvert_exporter": "python",
   "pygments_lexer": "ipython3",
   "version": "3.6.5"
  },
  "varInspector": {
   "cols": {
    "lenName": 16,
    "lenType": 16,
    "lenVar": 40
   },
   "kernels_config": {
    "python": {
     "delete_cmd_postfix": "",
     "delete_cmd_prefix": "del ",
     "library": "var_list.py",
     "varRefreshCmd": "print(var_dic_list())"
    },
    "r": {
     "delete_cmd_postfix": ") ",
     "delete_cmd_prefix": "rm(",
     "library": "var_list.r",
     "varRefreshCmd": "cat(var_dic_list()) "
    }
   },
   "types_to_exclude": [
    "module",
    "function",
    "builtin_function_or_method",
    "instance",
    "_Feature"
   ],
   "window_display": false
  }
 },
 "nbformat": 4,
 "nbformat_minor": 2
}
